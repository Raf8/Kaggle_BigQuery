{
  "cells": [
    {
      "metadata": {
        "scrolled": true,
        "_cell_guid": "f8b0e336-94f0-4792-8bc3-e13b3239cb39",
        "_uuid": "23c976fdb0bed6cb42fe29514782be1bd3265e9b",
        "trusted": false,
        "collapsed": true
      },
      "cell_type": "code",
      "source": "# import package with helper functions \nimport bq_helper\n\n# create a helper object for this dataset\nopen_aq = bq_helper.BigQueryHelper(active_project=\"bigquery-public-data\",\n                                   dataset_name=\"openaq\")\n\n# print all the tables in this dataset (there's only one!)\nopen_aq.list_tables()",
      "execution_count": null,
      "outputs": []
    },
    {
      "metadata": {
        "_cell_guid": "b1621f71-52a0-4ff2-91d4-b2f55b576fa6",
        "_uuid": "f0814099792b21cb86cb9b7e91f5854925083917",
        "trusted": false,
        "collapsed": true
      },
      "cell_type": "code",
      "source": "open_aq.head('global_air_quality')",
      "execution_count": null,
      "outputs": []
    },
    {
      "metadata": {
        "_cell_guid": "0c917696-9d63-415a-84c2-47e59b8d01be",
        "_uuid": "77a63ccf311df4dbfc2b5912a638948da18cdd7f",
        "collapsed": true,
        "trusted": false
      },
      "cell_type": "code",
      "source": "query = \"\"\"SELECT city\n            FROM `bigquery-public-data.openaq.global_air_quality`\n            WHERE country = 'US'\n        \"\"\"",
      "execution_count": null,
      "outputs": []
    },
    {
      "metadata": {
        "_cell_guid": "1f80fba4-8e86-4b21-bb11-dd4f904df6f2",
        "_uuid": "4d48da81a87e8c514020ccd5e5c6aa6e2dab5702",
        "trusted": false,
        "collapsed": true
      },
      "cell_type": "code",
      "source": "us_cities = open_aq.query_to_pandas_safe(query)",
      "execution_count": null,
      "outputs": []
    },
    {
      "metadata": {
        "_cell_guid": "021f796f-9457-44a4-ab67-cee13f4d59e3",
        "_uuid": "88e09a7286873878076527fda610282f40a5c479",
        "trusted": false,
        "collapsed": true
      },
      "cell_type": "code",
      "source": "us_cities.city.value_counts().head()",
      "execution_count": null,
      "outputs": []
    },
    {
      "metadata": {
        "_cell_guid": "75eab7d7-5d66-44e3-89f9-d3582391a551",
        "_uuid": "f2dd6e6eeca533d42693dd7774d1c2379a8cd4ce",
        "collapsed": true,
        "trusted": false
      },
      "cell_type": "code",
      "source": "query = \"\"\"SELECT country\n           FROM `bigquery-public-data.openaq.global_air_quality`\n           WHERE unit != 'ppm'\"\"\"",
      "execution_count": null,
      "outputs": []
    },
    {
      "metadata": {
        "_cell_guid": "ec96557e-2d93-4e26-80bf-cd830e051cf4",
        "_uuid": "d5770bcb0e594ae180b2ff2881a091806e3441a3",
        "trusted": false,
        "collapsed": true
      },
      "cell_type": "code",
      "source": "us_cities = open_aq.query_to_pandas_safe(query)",
      "execution_count": null,
      "outputs": []
    },
    {
      "metadata": {
        "_cell_guid": "30ac8dd1-47fe-4972-8ef4-8c54f491f28a",
        "_uuid": "60f9229cee117f0864df9cc29e97bf9ed517d468",
        "trusted": false,
        "collapsed": true
      },
      "cell_type": "code",
      "source": "us_cities.country.head()",
      "execution_count": null,
      "outputs": []
    },
    {
      "metadata": {
        "_cell_guid": "fe55f609-3bfc-401e-a68d-0a797d192143",
        "_uuid": "36ba82a1144df61f44a2db30e709bade35b22b36",
        "collapsed": true,
        "trusted": false
      },
      "cell_type": "code",
      "source": "query = \"\"\"SELECT pollutant\n            FROM `bigquery-public-data.openaq.global_air_quality`\n            WHERE value = 0\n        \"\"\"",
      "execution_count": null,
      "outputs": []
    },
    {
      "metadata": {
        "_cell_guid": "219db6f9-4935-42d1-8725-a4ca759da47a",
        "_uuid": "c45d4fd3507ad0c6615e273250d407df5637218e",
        "trusted": false,
        "collapsed": true
      },
      "cell_type": "code",
      "source": "us_cities = open_aq.query_to_pandas_safe(query)",
      "execution_count": null,
      "outputs": []
    },
    {
      "metadata": {
        "_cell_guid": "6fb5a495-3453-4788-84cb-be1437a56a91",
        "_uuid": "7540ddd9c53e23b51994aae3455946948fbcffc6",
        "trusted": false,
        "collapsed": true
      },
      "cell_type": "code",
      "source": "us_cities.head()",
      "execution_count": null,
      "outputs": []
    },
    {
      "metadata": {
        "_cell_guid": "58e176ef-3eb0-494e-8425-225c6441494c",
        "_uuid": "25493085cdc87ae5862dab8d7f520273ff2a4f9d",
        "collapsed": true,
        "trusted": false
      },
      "cell_type": "code",
      "source": "",
      "execution_count": null,
      "outputs": []
    }
  ],
  "metadata": {
    "kernelspec": {
      "display_name": "Python 3",
      "language": "python",
      "name": "python3"
    },
    "language_info": {
      "mimetype": "text/x-python",
      "nbconvert_exporter": "python",
      "pygments_lexer": "ipython3",
      "name": "python",
      "file_extension": ".py",
      "codemirror_mode": {
        "name": "ipython",
        "version": 3
      },
      "version": "3.6.4"
    }
  },
  "nbformat": 4,
  "nbformat_minor": 1
}